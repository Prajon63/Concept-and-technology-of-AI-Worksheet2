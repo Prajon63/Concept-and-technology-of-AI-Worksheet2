{
  "nbformat": 4,
  "nbformat_minor": 0,
  "metadata": {
    "colab": {
      "provenance": []
    },
    "kernelspec": {
      "name": "python3",
      "display_name": "Python 3"
    },
    "language_info": {
      "name": "python"
    }
  },
  "cells": [
    {
      "cell_type": "markdown",
      "source": [
        "\n",
        "\n",
        "```\n",
        "# This is formatted as code\n",
        "```\n",
        "\n",
        "Problem 1 Question 1 and 2"
      ],
      "metadata": {
        "id": "jaz2NkfIb5tX"
      }
    },
    {
      "cell_type": "code",
      "source": [
        "import pandas as pd\n",
        "\n",
        "#this code is to read write and inspect data from bank.csv\n",
        "\n",
        "bank_df = pd.read_csv('/content/drive/MyDrive/Concept and technologies of AI/bank .csv') #loading the data set\n",
        "print(\"Info of the bank dataset:\")\n",
        "print(bank_df.info())\n",
        "\n",
        "# (a) Columns with dtypes=object\n",
        "object_columns = bank_df.select_dtypes(include=['object']).columns\n",
        "print(\"\\nColumns with dtype 'object':\", object_columns)\n",
        "\n",
        "# (b) Unique values of those columns\n",
        "for col in object_columns:\n",
        "    print(f\"\\nUnique values in column '{col}': {bank_df[col].unique()}\")\n",
        "\n",
        "# (c) Total null values in each column\n",
        "print(\"\\nNull values in each column:\")\n",
        "print(bank_df.isnull().sum())\n",
        "\n"
      ],
      "metadata": {
        "id": "0bi6SKredM50",
        "colab": {
          "base_uri": "https://localhost:8080/"
        },
        "outputId": "266325ff-284f-4a7d-e940-2fe6fed07f8b"
      },
      "execution_count": 23,
      "outputs": [
        {
          "output_type": "stream",
          "name": "stdout",
          "text": [
            "Info of the bank dataset:\n",
            "<class 'pandas.core.frame.DataFrame'>\n",
            "RangeIndex: 45211 entries, 0 to 45210\n",
            "Data columns (total 7 columns):\n",
            " #   Column    Non-Null Count  Dtype\n",
            "---  ------    --------------  -----\n",
            " 0   age       45211 non-null  int64\n",
            " 1   balance   45211 non-null  int64\n",
            " 2   day       45211 non-null  int64\n",
            " 3   duration  45211 non-null  int64\n",
            " 4   campaign  45211 non-null  int64\n",
            " 5   pdays     45211 non-null  int64\n",
            " 6   previous  45211 non-null  int64\n",
            "dtypes: int64(7)\n",
            "memory usage: 2.4 MB\n",
            "None\n",
            "\n",
            "Columns with dtype 'object': Index([], dtype='object')\n",
            "\n",
            "Null values in each column:\n",
            "age         0\n",
            "balance     0\n",
            "day         0\n",
            "duration    0\n",
            "campaign    0\n",
            "pdays       0\n",
            "previous    0\n",
            "dtype: int64\n"
          ]
        }
      ]
    },
    {
      "cell_type": "markdown",
      "source": [
        "Problem 1 Question 3 and 4"
      ],
      "metadata": {
        "id": "49jiaJkskdEq"
      }
    },
    {
      "cell_type": "code",
      "source": [
        "# 3. Drop object columns and save to new CSV\n",
        "bank_numeric_df = bank_df.drop(columns=object_columns)\n",
        "bank_numeric_df.to_csv('/content/drive/MyDrive/Concept and technologies of AI/bank .csv', index=False)\n",
        "\n",
        "# 4. Load the new CSV and get summary statistics\n",
        "bank_numeric_df = pd.read_csv('/content/drive/MyDrive/Concept and technologies of AI/bank .csv')\n",
        "print(\"\\nSummary statistics of bank numeric data:\")\n",
        "print(bank_numeric_df.describe())"
      ],
      "metadata": {
        "colab": {
          "base_uri": "https://localhost:8080/"
        },
        "id": "ZEJSxDz2kkie",
        "outputId": "43775585-7ced-4a30-b8ef-4b4b9f4b8474"
      },
      "execution_count": 8,
      "outputs": [
        {
          "output_type": "stream",
          "name": "stdout",
          "text": [
            "\n",
            "Summary statistics of bank numeric data:\n",
            "                age        balance           day      duration      campaign  \\\n",
            "count  45211.000000   45211.000000  45211.000000  45211.000000  45211.000000   \n",
            "mean      40.936210    1362.272058     15.806419    258.163080      2.763841   \n",
            "std       10.618762    3044.765829      8.322476    257.527812      3.098021   \n",
            "min       18.000000   -8019.000000      1.000000      0.000000      1.000000   \n",
            "25%       33.000000      72.000000      8.000000    103.000000      1.000000   \n",
            "50%       39.000000     448.000000     16.000000    180.000000      2.000000   \n",
            "75%       48.000000    1428.000000     21.000000    319.000000      3.000000   \n",
            "max       95.000000  102127.000000     31.000000   4918.000000     63.000000   \n",
            "\n",
            "              pdays      previous  \n",
            "count  45211.000000  45211.000000  \n",
            "mean      40.197828      0.580323  \n",
            "std      100.128746      2.303441  \n",
            "min       -1.000000      0.000000  \n",
            "25%       -1.000000      0.000000  \n",
            "50%       -1.000000      0.000000  \n",
            "75%       -1.000000      0.000000  \n",
            "max      871.000000    275.000000  \n"
          ]
        }
      ]
    },
    {
      "cell_type": "markdown",
      "source": [
        "Problem 2 Medical student hai"
      ],
      "metadata": {
        "id": "N7YxUc6JlNmb"
      }
    },
    {
      "cell_type": "code",
      "source": [
        "# Problem 2: Data Imputations (medical_student.csv)\n",
        "# Load the dataset\n",
        "medical_df = pd.read_csv('/content/drive/MyDrive/Concept and technologies of AI/medical_students_dataset (1).csv')\n",
        "\n",
        "# 1. Check info and find columns with missing values\n",
        "print(\"\\nInfo of medical student dataset:\")\n",
        "print(medical_df.info())\n",
        "\n",
        "missing_values = medical_df.isnull().sum()\n",
        "print(\"\\nColumns with missing values:\")\n",
        "print(missing_values[missing_values > 0])"
      ],
      "metadata": {
        "colab": {
          "base_uri": "https://localhost:8080/"
        },
        "id": "doh9An-JlY9D",
        "outputId": "5c43f11e-4133-40d7-aab8-071f7cead53d"
      },
      "execution_count": 10,
      "outputs": [
        {
          "output_type": "stream",
          "name": "stdout",
          "text": [
            "\n",
            "Info of medical student dataset:\n",
            "<class 'pandas.core.frame.DataFrame'>\n",
            "RangeIndex: 200000 entries, 0 to 199999\n",
            "Data columns (total 13 columns):\n",
            " #   Column          Non-Null Count   Dtype  \n",
            "---  ------          --------------   -----  \n",
            " 0   Student ID      180000 non-null  float64\n",
            " 1   Age             180000 non-null  float64\n",
            " 2   Gender          180000 non-null  object \n",
            " 3   Height          180000 non-null  float64\n",
            " 4   Weight          180000 non-null  float64\n",
            " 5   Blood Type      180000 non-null  object \n",
            " 6   BMI             180000 non-null  float64\n",
            " 7   Temperature     180000 non-null  float64\n",
            " 8   Heart Rate      180000 non-null  float64\n",
            " 9   Blood Pressure  180000 non-null  float64\n",
            " 10  Cholesterol     180000 non-null  float64\n",
            " 11  Diabetes        180000 non-null  object \n",
            " 12  Smoking         180000 non-null  object \n",
            "dtypes: float64(9), object(4)\n",
            "memory usage: 19.8+ MB\n",
            "None\n",
            "\n",
            "Columns with missing values:\n",
            "Student ID        20000\n",
            "Age               20000\n",
            "Gender            20000\n",
            "Height            20000\n",
            "Weight            20000\n",
            "Blood Type        20000\n",
            "BMI               20000\n",
            "Temperature       20000\n",
            "Heart Rate        20000\n",
            "Blood Pressure    20000\n",
            "Cholesterol       20000\n",
            "Diabetes          20000\n",
            "Smoking           20000\n",
            "dtype: int64\n"
          ]
        }
      ]
    },
    {
      "cell_type": "code",
      "source": [
        "# 2. Fill missing values\n",
        "# Filling with mean for numeric columns and mode for categorical columns\n",
        "\n",
        "for col in medical_df.columns:\n",
        "    if medical_df[col].isnull().sum() > 0:\n",
        "        if medical_df[col].dtype == 'object':\n",
        "            # Fill missing values with mode\n",
        "            medical_df[col] = medical_df[col].fillna(medical_df[col].mode()[0])\n",
        "        else:\n",
        "            # Fill missing values with mean\n",
        "            medical_df[col] = medical_df[col].fillna(medical_df[col].mean())\n"
      ],
      "metadata": {
        "id": "2k2XOh5-mI0g"
      },
      "execution_count": 13,
      "outputs": []
    },
    {
      "cell_type": "code",
      "source": [
        "# 3. Check and manage duplicate values\n",
        "duplicates = medical_df.duplicated().sum()\n",
        "print(f\"\\nNumber of duplicate rows: {duplicates}\")\n",
        "medical_df.drop_duplicates(inplace=True)\n"
      ],
      "metadata": {
        "colab": {
          "base_uri": "https://localhost:8080/"
        },
        "id": "wQ_90B8Gn3gS",
        "outputId": "e9009840-8419-4502-bf68-cd8ab5d8aa80"
      },
      "execution_count": 14,
      "outputs": [
        {
          "output_type": "stream",
          "name": "stdout",
          "text": [
            "\n",
            "Number of duplicate rows: 12572\n"
          ]
        }
      ]
    },
    {
      "cell_type": "markdown",
      "source": [
        "Excercise 3.2 Problem 1"
      ],
      "metadata": {
        "id": "y2HLQOV5n6zn"
      }
    },
    {
      "cell_type": "code",
      "source": [
        "titanic_df = pd.read_csv('/content/drive/MyDrive/Concept and technologies of AI/Titanic-Dataset (1).csv')\n"
      ],
      "metadata": {
        "id": "nOOms2ygn80r"
      },
      "execution_count": 24,
      "outputs": []
    },
    {
      "cell_type": "code",
      "source": [
        "# Problem 1: Subset and analyze 'Fare' column for Pclass=1\n",
        "titanic_subset = titanic_df[['Name', 'Pclass', 'Sex', 'Age', 'Fare', 'Survived']][titanic_df['Pclass'] == 1]\n",
        "print(\"\\nFare statistics for first-class passengers:\")\n",
        "print(\"Mean:\", titanic_subset['Fare'].mean())\n",
        "print(\"Median:\", titanic_subset['Fare'].median())\n",
        "print(\"Max:\", titanic_subset['Fare'].max())\n",
        "print(\"Min:\", titanic_subset['Fare'].min())"
      ],
      "metadata": {
        "colab": {
          "base_uri": "https://localhost:8080/"
        },
        "id": "HsEih2cuoBea",
        "outputId": "9bb0b5d1-36b7-40c7-b3bb-bf4a5c10f25c"
      },
      "execution_count": 25,
      "outputs": [
        {
          "output_type": "stream",
          "name": "stdout",
          "text": [
            "\n",
            "Fare statistics for first-class passengers:\n",
            "Mean: 84.1546875\n",
            "Median: 60.287499999999994\n",
            "Max: 512.3292\n",
            "Min: 0.0\n"
          ]
        }
      ]
    },
    {
      "cell_type": "code",
      "source": [
        "# Problem 2: Null values in 'Age' column and dropping them\n",
        "print(\"\\nNull values in 'Age' column:\", titanic_subset['Age'].isnull().sum())\n",
        "titanic_subset = titanic_subset.dropna(subset=['Age'])"
      ],
      "metadata": {
        "colab": {
          "base_uri": "https://localhost:8080/"
        },
        "id": "WV9lV3jDoWxF",
        "outputId": "7458ad2b-4a63-4be9-ee2d-3416b10ff622"
      },
      "execution_count": 26,
      "outputs": [
        {
          "output_type": "stream",
          "name": "stdout",
          "text": [
            "\n",
            "Null values in 'Age' column: 30\n"
          ]
        }
      ]
    },
    {
      "cell_type": "code",
      "source": [
        "# Problem 3: One-hot encoding 'Embarked' column\n",
        "# 1,2,3 and 4 sabai esma xa\n",
        "embarked_encoded = pd.get_dummies(titanic_df['Embarked'], prefix='Embarked')\n",
        "titanic_df = pd.concat([titanic_df, embarked_encoded], axis=1)\n",
        "titanic_df.drop(columns=['Embarked'], inplace=True)\n",
        "print(\"\\nModified Titanic DataFrame with one-hot encoding:\")\n",
        "print(titanic_df.head())"
      ],
      "metadata": {
        "colab": {
          "base_uri": "https://localhost:8080/"
        },
        "id": "ktD4S6TwodLb",
        "outputId": "2d98301a-0230-46ee-f080-d74d9cba813e"
      },
      "execution_count": 27,
      "outputs": [
        {
          "output_type": "stream",
          "name": "stdout",
          "text": [
            "\n",
            "Modified Titanic DataFrame with one-hot encoding:\n",
            "   PassengerId  Survived  Pclass  \\\n",
            "0            1         0       3   \n",
            "1            2         1       1   \n",
            "2            3         1       3   \n",
            "3            4         1       1   \n",
            "4            5         0       3   \n",
            "\n",
            "                                                Name     Sex   Age  SibSp  \\\n",
            "0                            Braund, Mr. Owen Harris    male  22.0      1   \n",
            "1  Cumings, Mrs. John Bradley (Florence Briggs Th...  female  38.0      1   \n",
            "2                             Heikkinen, Miss. Laina  female  26.0      0   \n",
            "3       Futrelle, Mrs. Jacques Heath (Lily May Peel)  female  35.0      1   \n",
            "4                           Allen, Mr. William Henry    male  35.0      0   \n",
            "\n",
            "   Parch            Ticket     Fare Cabin  Embarked_C  Embarked_Q  Embarked_S  \n",
            "0      0         A/5 21171   7.2500   NaN       False       False        True  \n",
            "1      0          PC 17599  71.2833   C85        True       False       False  \n",
            "2      0  STON/O2. 3101282   7.9250   NaN       False       False        True  \n",
            "3      0            113803  53.1000  C123       False       False        True  \n",
            "4      0            373450   8.0500   NaN       False       False        True  \n"
          ]
        }
      ]
    },
    {
      "cell_type": "code",
      "source": [
        "# Problem 4: Survival rate by gender\n",
        "gender_survival = titanic_df.groupby('Sex')['Survived'].mean()\n",
        "print(\"\\nMean survival rates by gender:\")\n",
        "print(gender_survival)\n"
      ],
      "metadata": {
        "colab": {
          "base_uri": "https://localhost:8080/"
        },
        "id": "eKBGpD8nojdu",
        "outputId": "aeb9030f-3e98-42d5-853b-f0a5bb7f97d2"
      },
      "execution_count": 28,
      "outputs": [
        {
          "output_type": "stream",
          "name": "stdout",
          "text": [
            "\n",
            "Mean survival rates by gender:\n",
            "Sex\n",
            "female    0.742038\n",
            "male      0.188908\n",
            "Name: Survived, dtype: float64\n"
          ]
        }
      ]
    },
    {
      "cell_type": "code",
      "source": [
        "# Visualization\n",
        "import matplotlib.pyplot as plt\n",
        "gender_survival.plot(kind='bar', color=['blue', 'pink'], title='Survival Rates by Gender')\n",
        "plt.ylabel('Survival Rate')\n",
        "plt.show()\n"
      ],
      "metadata": {
        "colab": {
          "base_uri": "https://localhost:8080/",
          "height": 506
        },
        "id": "SbT8uXsRonjo",
        "outputId": "3dde6936-db37-4a62-8d10-b53849f72fe8"
      },
      "execution_count": 30,
      "outputs": [
        {
          "output_type": "display_data",
          "data": {
            "text/plain": [
              "<Figure size 640x480 with 1 Axes>"
            ],
            "image/png": "[encoded data removed]"
          },
          "metadata": {}
        }
      ]
    },
    {
      "cell_type": "markdown",
      "source": [
        "Problem 5"
      ],
      "metadata": {
        "id": "2zEF0Th5pzwh"
      }
    },
    {
      "cell_type": "code",
      "source": [
        "# Problem 5: Survival rate by embarkation port\n",
        "embark_survival = titanic_df.groupby(['Embarked_C', 'Embarked_Q', 'Embarked_S'])['Survived'].mean()\n",
        "print(\"\\nSurvival rates by embarkation port:\")\n",
        "print(embark_survival)\n",
        "\n"
      ],
      "metadata": {
        "colab": {
          "base_uri": "https://localhost:8080/"
        },
        "id": "K9gCZC24p3Ze",
        "outputId": "096d4132-8a6d-4597-98c0-9a7b48bbe0f6"
      },
      "execution_count": 33,
      "outputs": [
        {
          "output_type": "stream",
          "name": "stdout",
          "text": [
            "\n",
            "Survival rates by embarkation port:\n",
            "Embarked_C  Embarked_Q  Embarked_S\n",
            "False       False       False         1.000000\n",
            "                        True          0.336957\n",
            "            True        False         0.389610\n",
            "True        False       False         0.553571\n",
            "Name: Survived, dtype: float64\n"
          ]
        }
      ]
    }
  ]
}